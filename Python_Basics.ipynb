{
  "nbformat": 4,
  "nbformat_minor": 0,
  "metadata": {
    "colab": {
      "provenance": []
    },
    "kernelspec": {
      "name": "python3",
      "display_name": "Python 3"
    },
    "language_info": {
      "name": "python"
    }
  },
  "cells": [
    {
      "cell_type": "code",
      "execution_count": null,
      "metadata": {
        "id": "E3gW8nYPkfwB"
      },
      "outputs": [],
      "source": []
    },
    {
      "cell_type": "markdown",
      "source": [
        "**Python Basics Questions**"
      ],
      "metadata": {
        "id": "dzxKsFQBvGFv"
      }
    },
    {
      "cell_type": "markdown",
      "source": [
        "1. What is Python, and why is it popular?\n",
        "   - Python is a high-level, interpreted programming language.\n",
        "\n",
        "It is popular because:\n",
        "\n",
        "Easy to read and write (simple syntax)\n",
        "\n",
        "Supports multiple programming paradigms (OOP, functional, procedural)\n",
        "\n",
        "Huge community support and libraries\n",
        "\n",
        "Widely used in AI, ML, Web Development, Data Science, etc.\n",
        "\n",
        "\n",
        "   \n",
        "\n",
        "\n",
        "\n",
        "\n",
        "\n"
      ],
      "metadata": {
        "id": "eyzzf9NRmbOo"
      }
    },
    {
      "cell_type": "markdown",
      "source": [
        "2. What is an interpreter in Python ?\n",
        "\n",
        "   -> An interpreter is a program that reads and executes Python code line-by-line.\n",
        "\n",
        "It allows you to run and test code quickly without compiling it.\n",
        "\n"
      ],
      "metadata": {
        "id": "xoaufNgUmzDf"
      }
    },
    {
      "cell_type": "markdown",
      "source": [
        "3. What are pre-defined keywords in Python ?\n",
        "\n",
        "   -> Keywords are reserved words that have special meaning in Python, like if, else, for, def, True, etc.\n",
        "\n",
        "They cannot be used for any other purpose."
      ],
      "metadata": {
        "id": "OcOSW-w2nCQp"
      }
    },
    {
      "cell_type": "markdown",
      "source": [
        "4. Can keywords be used as variable names?\n",
        "\n",
        "   -> No, you cannot use keywords as variable names.\n",
        "Example: if = 10 . This is invalid."
      ],
      "metadata": {
        "id": "MWIICyptncwX"
      }
    },
    {
      "cell_type": "markdown",
      "source": [
        "5.  What is mutability in Python ?\n",
        "\n",
        " ->  Mutability means whether an object can be changed after it's created.\n",
        "\n",
        "Mutable objects: can be changed (e.g., lists, dictionaries)\n",
        "\n",
        "Immutable objects: cannot be changed (e.g., strings, tuples)"
      ],
      "metadata": {
        "id": "bXu753UWnyqA"
      }
    },
    {
      "cell_type": "markdown",
      "source": [
        "6.  Why are lists mutable, but tuples are immutable?\n",
        "\n",
        "   -> Lists are designed to store changing data, so they allow item updates.\n",
        "\n",
        "Tuples are designed for fixed data, so they don’t allow changes to maintain data safety and performance."
      ],
      "metadata": {
        "id": "XidvPut0n8rG"
      }
    },
    {
      "cell_type": "markdown",
      "source": [
        "7.  What is the difference between “==” and “is” operators in Python ?\n",
        "    -> '==' checks if values are the same.\n",
        "\n",
        "       'is' checks if both refer to the same memory location.\n",
        "Example:\n",
        "\n",
        "a = [1, 2]  \n",
        "b = [1, 2]  \n",
        "a == b  # True  \n",
        "a is b  # False"
      ],
      "metadata": {
        "id": "V93vbx6DoU0A"
      }
    },
    {
      "cell_type": "markdown",
      "source": [
        "8. What are logical operators in Python?\n",
        "   \n",
        "   -> They are used to combine conditional statements:\n",
        "\n",
        "         and → True if both are True\n",
        "\n",
        "         or → True if at least one is True\n",
        "\n",
        "         not → Reverses the condition"
      ],
      "metadata": {
        "id": "3RR8nzXRo4_6"
      }
    },
    {
      "cell_type": "markdown",
      "source": [
        "9. What is type casting in Python ?\n",
        "\n",
        "   -> Type casting means converting one data type into another.\n",
        "       Example: int(\"5\") → converts string to integer."
      ],
      "metadata": {
        "id": "S5qWkw-QpL8c"
      }
    },
    {
      "cell_type": "markdown",
      "source": [
        "10. What is the difference between implicit and explicit type casting ?\n",
        "\n",
        "  -> Implicit: Python automatically converts the type\n",
        "      x = 5 + 3.0  # 5 is converted to 5.0, result is 8.0\n",
        "\n",
        "      Explicit: Here we manually convert it using functions\n",
        "       x = int(\"10\")  # string to int\n",
        "\n"
      ],
      "metadata": {
        "id": "4WWPUk6xpWD7"
      }
    },
    {
      "cell_type": "markdown",
      "source": [
        "11. What is the purpose of conditional statements in Python?\n",
        "\n",
        "   -> They let the program make decisions based on conditions.\n",
        "\n",
        "        Statements like if, elif, and else are used to control the flow.\n",
        "\n"
      ],
      "metadata": {
        "id": "jfor-xtVpz3z"
      }
    },
    {
      "cell_type": "markdown",
      "source": [
        "12. How does the elif statement work ?\n",
        "\n",
        "   ->  elif (else if) checks another condition if previous if is False.\n",
        "\n",
        "       It helps avoid writing multiple if statements.\n",
        "       \n",
        "    if x > 0:\n",
        "      print(\"Positive\")\n",
        "    elif x == 0:\n",
        "      print(\"Zero\")\n",
        "  else:\n",
        "    print(\"Negative\")\n",
        "  "
      ],
      "metadata": {
        "id": "R-JbEeLPqAUO"
      }
    },
    {
      "cell_type": "markdown",
      "source": [
        "13. What is the difference between for and while loops?\n",
        "\n",
        "    -> for loop: used when you know how many times to loop (e.g., for each item in a list).\n",
        "\n",
        "while loop: used when you don't know the number of iterations in advance, but run until a condition is false."
      ],
      "metadata": {
        "id": "ZcPFemJsuKL4"
      }
    },
    {
      "cell_type": "markdown",
      "source": [
        "14. Describe a scenario where a while loop is more suitable than a for loop.\n",
        "\n",
        "      -> Example: Asking user to enter the correct password until it is correct.\n",
        "         password = \"\"\n",
        "         while password != \"1234\":\n",
        "         password = input(\"Enter password: \")\n",
        "         print(\"Access granted\")\n",
        "\n",
        "         Here, we do not know how many tries the user will take.\n",
        "\n",
        "\n"
      ],
      "metadata": {
        "id": "widrBCtruTuM"
      }
    },
    {
      "cell_type": "markdown",
      "source": [
        "**Practical Questions**"
      ],
      "metadata": {
        "id": "X6Xj69EzvUrD"
      }
    },
    {
      "cell_type": "code",
      "source": [
        "# 1. Write a Python program to print \"Hello, World!\"\n",
        "\n",
        "print(\"Hello, World!\")\n"
      ],
      "metadata": {
        "colab": {
          "base_uri": "https://localhost:8080/"
        },
        "id": "p3W3-tc6u6DI",
        "outputId": "eab78f42-4d9c-46b8-f299-3e2a77ea0c65"
      },
      "execution_count": 2,
      "outputs": [
        {
          "output_type": "stream",
          "name": "stdout",
          "text": [
            "Hello, World!\n"
          ]
        }
      ]
    },
    {
      "cell_type": "code",
      "source": [
        "# 2.  Write a Python program that displays your name and age.\n",
        "\n",
        "name = \"Simran Kaur\"\n",
        "age = 10\n",
        "print(\"Name:\", name)\n",
        "print(\"Age:\", age)\n"
      ],
      "metadata": {
        "colab": {
          "base_uri": "https://localhost:8080/"
        },
        "id": "h79g1mKsvg7I",
        "outputId": "6d46aa6c-5be0-44aa-846b-fe36b645687e"
      },
      "execution_count": 3,
      "outputs": [
        {
          "output_type": "stream",
          "name": "stdout",
          "text": [
            "Name: Simran Kaur\n",
            "Age: 10\n"
          ]
        }
      ]
    },
    {
      "cell_type": "code",
      "source": [
        "#3.  Write code to print all the pre-defined keywords in Python using the keyword library.\n",
        "\n",
        "import keyword\n",
        "print(\"Python Keywords:\")\n",
        "print(keyword.kwlist)\n"
      ],
      "metadata": {
        "colab": {
          "base_uri": "https://localhost:8080/"
        },
        "id": "R1nLLIj-v6rE",
        "outputId": "2a40e912-205f-4bfa-a352-0099a91ee2e4"
      },
      "execution_count": 4,
      "outputs": [
        {
          "output_type": "stream",
          "name": "stdout",
          "text": [
            "Python Keywords:\n",
            "['False', 'None', 'True', 'and', 'as', 'assert', 'async', 'await', 'break', 'class', 'continue', 'def', 'del', 'elif', 'else', 'except', 'finally', 'for', 'from', 'global', 'if', 'import', 'in', 'is', 'lambda', 'nonlocal', 'not', 'or', 'pass', 'raise', 'return', 'try', 'while', 'with', 'yield']\n"
          ]
        }
      ]
    },
    {
      "cell_type": "code",
      "source": [
        "#4.  Write a program that checks if a given word is a Python keyword.\n",
        "\n",
        "import keyword\n",
        "\n",
        "word = input(\"Enter a word: \")\n",
        "if keyword.iskeyword(word):\n",
        "    print(f\"'{word}' is a Python keyword.\")\n",
        "else:\n",
        "    print(f\"'{word}' is NOT a Python keyword.\")\n"
      ],
      "metadata": {
        "colab": {
          "base_uri": "https://localhost:8080/"
        },
        "id": "Ix78TtgJwrN8",
        "outputId": "363f33f4-71c6-46e5-a3c5-cdcdcdf1a67b"
      },
      "execution_count": 8,
      "outputs": [
        {
          "output_type": "stream",
          "name": "stdout",
          "text": [
            "Enter a word: False\n",
            "'False' is a Python keyword.\n"
          ]
        }
      ]
    },
    {
      "cell_type": "code",
      "source": [
        "#5. Create a list and tuple in Python, and demonstrate how attempting to change an element works differently for each.\n",
        "\n",
        "my_list = [1, 2, 3]\n",
        "my_tuple = (1, 2, 3)\n",
        "my_list[1] = 100\n",
        "print(\"Modified list:\", my_list)\n",
        "try:\n",
        "    my_tuple[1] = 100\n",
        "except TypeError as e:\n",
        "    print(\"Error modifying tuple:\", e)"
      ],
      "metadata": {
        "colab": {
          "base_uri": "https://localhost:8080/"
        },
        "id": "bs0eNMv0wx7s",
        "outputId": "ed55f964-be00-4818-a18d-2271fc77bb60"
      },
      "execution_count": 11,
      "outputs": [
        {
          "output_type": "stream",
          "name": "stdout",
          "text": [
            "Modified list: [1, 100, 3]\n",
            "Error modifying tuple: 'tuple' object does not support item assignment\n"
          ]
        }
      ]
    },
    {
      "cell_type": "code",
      "source": [
        "#6. Write a function to demonstrate the behavior of mutable and immutable arguments.\n",
        "\n",
        "def demo_mutable_immutable(a_list, a_number):\n",
        "    a_list.append(4)\n",
        "    a_number += 5\n",
        "    print(\"Inside function - List:\", a_list)\n",
        "    print(\"Inside function - Number:\", a_number)\n",
        "\n",
        "list1 = [1, 2, 3]\n",
        "num1 = 10\n",
        "demo_mutable_immutable(list1, num1)\n",
        "print(\"Outside function - List:\", list1)\n",
        "print(\"Outside function - Number:\", num1)"
      ],
      "metadata": {
        "colab": {
          "base_uri": "https://localhost:8080/"
        },
        "id": "BYEpn7g9wzoW",
        "outputId": "9570b6bd-a69d-4436-fa80-9bf21bfb9e37"
      },
      "execution_count": 12,
      "outputs": [
        {
          "output_type": "stream",
          "name": "stdout",
          "text": [
            "Inside function - List: [1, 2, 3, 4]\n",
            "Inside function - Number: 15\n",
            "Outside function - List: [1, 2, 3, 4]\n",
            "Outside function - Number: 10\n"
          ]
        }
      ]
    },
    {
      "cell_type": "code",
      "source": [
        "#7. Write a program that performs basic arithmetic operations on two user-input numbers.\n",
        "\n",
        "a = float(input(\"Enter first number: \"))\n",
        "b = float(input(\"Enter second number: \"))\n",
        "print(\"Sum:\", a + b)\n",
        "print(\"Difference:\", a - b)\n",
        "print(\"Product:\", a * b)\n",
        "print(\"Quotient:\", a / b)\n"
      ],
      "metadata": {
        "colab": {
          "base_uri": "https://localhost:8080/"
        },
        "id": "3nrA4Toaw27p",
        "outputId": "6dd0277e-553e-4b53-a4e3-4ff976c3f2fd"
      },
      "execution_count": 13,
      "outputs": [
        {
          "output_type": "stream",
          "name": "stdout",
          "text": [
            "Enter first number: 5\n",
            "Enter second number: 2\n",
            "Sum: 7.0\n",
            "Difference: 3.0\n",
            "Product: 10.0\n",
            "Quotient: 2.5\n"
          ]
        }
      ]
    },
    {
      "cell_type": "code",
      "source": [
        "#8. Write a program to demonstrate the use of logical operators.\n",
        "\n",
        "x = int(input(\"Enter a number: \"))\n",
        "print(\"x > 0 and x < 10:\", x > 0 and x < 10)\n",
        "print(\"x < 0 or x > 10:\", x < 0 or x > 10)\n",
        "print(\"not(x == 0):\", not(x == 0))"
      ],
      "metadata": {
        "colab": {
          "base_uri": "https://localhost:8080/"
        },
        "id": "GzBAKv5lw4WY",
        "outputId": "8a0d8ffc-e443-4eb4-872d-82fe9290b4d9"
      },
      "execution_count": 14,
      "outputs": [
        {
          "output_type": "stream",
          "name": "stdout",
          "text": [
            "Enter a number: 5\n",
            "x > 0 and x < 10: True\n",
            "x < 0 or x > 10: False\n",
            "not(x == 0): True\n"
          ]
        }
      ]
    },
    {
      "cell_type": "code",
      "source": [
        "#9.  Write a Python program to convert user input from string to integer, float, and boolean types.\n",
        "\n",
        "user_input = input(\"Enter a value: \")\n",
        "print(\"As Integer:\", int(user_input))\n",
        "print(\"As Float:\", float(user_input))\n",
        "print(\"As Boolean:\", bool(user_input))"
      ],
      "metadata": {
        "colab": {
          "base_uri": "https://localhost:8080/"
        },
        "id": "p9g-Dj-yw7IK",
        "outputId": "62231afd-2833-4a18-9c89-71b45bcb518a"
      },
      "execution_count": 15,
      "outputs": [
        {
          "output_type": "stream",
          "name": "stdout",
          "text": [
            "Enter a value: 5\n",
            "As Integer: 5\n",
            "As Float: 5.0\n",
            "As Boolean: True\n"
          ]
        }
      ]
    },
    {
      "cell_type": "code",
      "source": [
        "#10. Write code to demonstrate type casting with list elements.\n",
        "\n",
        "string_list = ['1', '2', '3']\n",
        "int_list = [int(i) for i in string_list]\n",
        "print(\"Original:\", string_list)\n",
        "print(\"As Integers:\", int_list)\n"
      ],
      "metadata": {
        "colab": {
          "base_uri": "https://localhost:8080/"
        },
        "id": "opvuxos2w8Y2",
        "outputId": "90964725-afad-4a37-a621-430e9daed91e"
      },
      "execution_count": 16,
      "outputs": [
        {
          "output_type": "stream",
          "name": "stdout",
          "text": [
            "Original: ['1', '2', '3']\n",
            "As Integers: [1, 2, 3]\n"
          ]
        }
      ]
    },
    {
      "cell_type": "code",
      "source": [
        "#11. Write a program that checks if a number is positive, negative, or zero.\n",
        "\n",
        "num = float(input(\"Enter a number: \"))\n",
        "if num > 0:\n",
        "    print(\"Positive\")\n",
        "elif num < 0:\n",
        "    print(\"Negative\")\n",
        "else:\n",
        "    print(\"Zero\")"
      ],
      "metadata": {
        "colab": {
          "base_uri": "https://localhost:8080/"
        },
        "id": "mCbd3B4yw9zE",
        "outputId": "f39cbf6e-3335-430d-997f-ec3e082a1169"
      },
      "execution_count": 18,
      "outputs": [
        {
          "output_type": "stream",
          "name": "stdout",
          "text": [
            "Enter a number: -2\n",
            "Negative\n"
          ]
        }
      ]
    },
    {
      "cell_type": "code",
      "source": [
        "#12.  Write a for loop to print numbers from 1 to 10.\n",
        "\n",
        "for i in range(1, 11):\n",
        "    print(i)"
      ],
      "metadata": {
        "colab": {
          "base_uri": "https://localhost:8080/"
        },
        "id": "rZMBgHSCw-uI",
        "outputId": "7047dd9b-5066-4a3e-93a6-6207c8c7f382"
      },
      "execution_count": 20,
      "outputs": [
        {
          "output_type": "stream",
          "name": "stdout",
          "text": [
            "1\n",
            "2\n",
            "3\n",
            "4\n",
            "5\n",
            "6\n",
            "7\n",
            "8\n",
            "9\n",
            "10\n"
          ]
        }
      ]
    },
    {
      "cell_type": "code",
      "source": [
        "#13.  Write a Python program to find the sum of all even numbers between 1 and 50.\n",
        "\n",
        "even_sum = sum(i for i in range(2, 51, 2))\n",
        "print(\"Sum of even numbers (1 to 50):\", even_sum)\n"
      ],
      "metadata": {
        "colab": {
          "base_uri": "https://localhost:8080/"
        },
        "id": "Qhz6gWdlw_kw",
        "outputId": "e4cfb1e3-1862-4b0c-c1fa-6a1e4e745889"
      },
      "execution_count": 21,
      "outputs": [
        {
          "output_type": "stream",
          "name": "stdout",
          "text": [
            "Sum of even numbers (1 to 50): 650\n"
          ]
        }
      ]
    },
    {
      "cell_type": "code",
      "source": [
        "#14. Write a program to reverse a string using a while loop.\n",
        "\n",
        "s = input(\"Enter a string: \")\n",
        "rev = \"\"\n",
        "i = len(s) - 1\n",
        "while i >= 0:\n",
        "    rev += s[i]\n",
        "    i -= 1\n",
        "print(\"Reversed:\", rev)"
      ],
      "metadata": {
        "colab": {
          "base_uri": "https://localhost:8080/"
        },
        "id": "Scin4bTGxBHY",
        "outputId": "c8e3ac5e-b8d7-4a81-ea89-172bfad05c46"
      },
      "execution_count": 22,
      "outputs": [
        {
          "output_type": "stream",
          "name": "stdout",
          "text": [
            "Enter a string: apple\n",
            "Reversed: elppa\n"
          ]
        }
      ]
    },
    {
      "cell_type": "code",
      "source": [
        "#15. Write a Python program to calculate the factorial of a number provided by the user using a while loop.\n",
        "\n",
        "n = int(input(\"Enter a number: \"))\n",
        "fact = 1\n",
        "i = 1\n",
        "while i <= n:\n",
        "    fact *= i\n",
        "    i += 1\n",
        "print(\"Factorial of\", n, \"is\", fact)"
      ],
      "metadata": {
        "colab": {
          "base_uri": "https://localhost:8080/"
        },
        "id": "Vx12_g1HxCUS",
        "outputId": "83092a82-d6bc-4b98-afee-dccc47db6932"
      },
      "execution_count": 23,
      "outputs": [
        {
          "output_type": "stream",
          "name": "stdout",
          "text": [
            "Enter a number: 5\n",
            "Factorial of 5 is 120\n"
          ]
        }
      ]
    }
  ]
}